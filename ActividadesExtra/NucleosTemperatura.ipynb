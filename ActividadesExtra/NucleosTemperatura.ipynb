{
 "cells": [
  {
   "cell_type": "markdown",
   "metadata": {},
   "source": [
    "Mi equipo Dell cuenta con un ventilador externo y al momento de ejecutar el comando **sensors** despues de haber hecho la instalación con el comando **sudo apt-get install lm-sensors** obtuve esto:"
   ]
  },
  {
   "cell_type": "markdown",
   "metadata": {},
   "source": [
    "![title](ConVentiladorYSinAnaconda.png)"
   ]
  },
  {
   "cell_type": "markdown",
   "metadata": {},
   "source": [
    "Despues procedi a desconectar el ventilador externo e iniciar la ejecuación de Anaconda que en mi experiencia había trabado mi equipo en algunas ocaciones, obteniendo lo siguiente:\n"
   ]
  },
  {
   "cell_type": "markdown",
   "metadata": {},
   "source": [
    "![title](SinVentiladorYAnaconda.png)"
   ]
  },
  {
   "cell_type": "markdown",
   "metadata": {},
   "source": [
    "Más tarde volví a ejecutar el comando, y además desde otra terminal estaba ejecutando un programa en OpenMP que infinitamente usaba $100$ hilos e imprimia el *id* del hilo ejecutandose, obteniendo los siguientes resultados: "
   ]
  },
  {
   "cell_type": "markdown",
   "metadata": {},
   "source": [
    "![title](SinVentiladorAnacondaYOpenMP.png)"
   ]
  }
 ],
 "metadata": {
  "kernelspec": {
   "display_name": "Python 3",
   "language": "python",
   "name": "python3"
  },
  "language_info": {
   "codemirror_mode": {
    "name": "ipython",
    "version": 3
   },
   "file_extension": ".py",
   "mimetype": "text/x-python",
   "name": "python",
   "nbconvert_exporter": "python",
   "pygments_lexer": "ipython3",
   "version": "3.8.3"
  }
 },
 "nbformat": 4,
 "nbformat_minor": 4
}
