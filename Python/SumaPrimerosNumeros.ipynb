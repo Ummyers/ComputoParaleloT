{
 "cells": [
  {
   "cell_type": "markdown",
   "metadata": {},
   "source": [
    "# Suma de los primeros 1 000 000 000 números naturales"
   ]
  },
  {
   "cell_type": "markdown",
   "metadata": {},
   "source": [
    "Para calcular la suma de los primeros $n$ números naturales se utiliza la formula $\\frac{n(n+1)}{2}$.\n",
    "\n",
    "Con fines didacticos para el curso de Algoritmos Paralelos se diseño una práctica donde se implementa la suma de los primeros 1 000 000 000 haciendo uso de hilos. En la siguiente sección se presenta la forma secuencial de hacer la suma, la optimización secuencial usando el decorador *@jit* de la libreria *Numba* y calculando con la formula la suma."
   ]
  },
  {
   "cell_type": "code",
   "execution_count": 2,
   "metadata": {},
   "outputs": [
    {
     "data": {
      "text/plain": [
       "5050"
      ]
     },
     "execution_count": 2,
     "metadata": {},
     "output_type": "execute_result"
    }
   ],
   "source": [
    "int((100*(100+1))/2)"
   ]
  },
  {
   "cell_type": "markdown",
   "metadata": {},
   "source": [
    "Al ser una operación tiene una complejidad $O(1)$ respecto a tiempo y espacio en memoria."
   ]
  },
  {
   "cell_type": "code",
   "execution_count": 3,
   "metadata": {},
   "outputs": [],
   "source": [
    "def suma100numeros(x):\n",
    "    suma = 0\n",
    "    for i in range(0,101):\n",
    "        suma+=i\n",
    "    if x == 1:\n",
    "        print(\"La suma de los primeros 100 es: \",suma)"
   ]
  },
  {
   "cell_type": "markdown",
   "metadata": {},
   "source": [
    "La complejidad en tiempo de la función *suma100numeros* tiene complejidad $O(n)$ donde *n* es el número limite de la suma. La complejidad en espacio es constante $O(1)$ pues la función *suma100numeros* hace uso exclusivo de una variable donde se guarda la suma en cada iteración."
   ]
  },
  {
   "cell_type": "code",
   "execution_count": 4,
   "metadata": {},
   "outputs": [
    {
     "name": "stdout",
     "output_type": "stream",
     "text": [
      "La suma de los primeros 100 es:  5050\n"
     ]
    }
   ],
   "source": [
    "suma100numeros(1)"
   ]
  },
  {
   "cell_type": "code",
   "execution_count": 5,
   "metadata": {},
   "outputs": [
    {
     "name": "stdout",
     "output_type": "stream",
     "text": [
      "4.58 µs ± 382 ns per loop (mean ± std. dev. of 7 runs, 100000 loops each)\n"
     ]
    }
   ],
   "source": [
    "%timeit suma100numeros(0)"
   ]
  },
  {
   "cell_type": "markdown",
   "metadata": {},
   "source": [
    "Usando la fórmula para calcular la suma de los primeros 1 000 000 000 números naturales"
   ]
  },
  {
   "cell_type": "code",
   "execution_count": 6,
   "metadata": {},
   "outputs": [
    {
     "data": {
      "text/plain": [
       "5.000000005e+17"
      ]
     },
     "execution_count": 6,
     "metadata": {},
     "output_type": "execute_result"
    }
   ],
   "source": [
    "((1000000000*(1000000000+1))/2)"
   ]
  },
  {
   "cell_type": "markdown",
   "metadata": {},
   "source": [
    "//////Tipo de entero que permita visualizar? "
   ]
  },
  {
   "cell_type": "code",
   "execution_count": 7,
   "metadata": {},
   "outputs": [],
   "source": [
    "def sumaNumeros():\n",
    "    suma = 0\n",
    "    for i in range(0,100000001):\n",
    "        suma+=i\n",
    "    #print(\"La suma de los primeros 1 000 000 000 es: \",suma)"
   ]
  },
  {
   "cell_type": "code",
   "execution_count": 8,
   "metadata": {},
   "outputs": [
    {
     "name": "stdout",
     "output_type": "stream",
     "text": [
      "5.85 s ± 69.4 ms per loop (mean ± std. dev. of 7 runs, 1 loop each)\n"
     ]
    }
   ],
   "source": [
    "%timeit sumaNumeros()"
   ]
  },
  {
   "cell_type": "markdown",
   "metadata": {},
   "source": [
    "Observemos que calcular la suma de los primeros $100$ números tiene un costo de $4.35 \\mu s$ mientras que calcular la suma de los primeros $1 \\: 000 \\: 000 \\: 000$ tiene un costo de $5.76$ segundos \n",
    ">¿Sería bueno mencionar cuanto aumenta proporcionalmente?"
   ]
  },
  {
   "cell_type": "markdown",
   "metadata": {},
   "source": [
    "Ahora haremos las mismas pruebas usando la optimización que nos brinda *numba*"
   ]
  },
  {
   "cell_type": "code",
   "execution_count": 9,
   "metadata": {},
   "outputs": [],
   "source": [
    "from numba import jit, prange"
   ]
  },
  {
   "cell_type": "code",
   "execution_count": 10,
   "metadata": {},
   "outputs": [],
   "source": [
    "@jit\n",
    "def suma100numerosJIT(x):\n",
    "    suma = 0\n",
    "    for i in range(0,101):\n",
    "        suma+=i\n",
    "    if x == 1:\n",
    "        print(\"La suma de los primeros 100 es: \",suma)"
   ]
  },
  {
   "cell_type": "code",
   "execution_count": 11,
   "metadata": {},
   "outputs": [
    {
     "name": "stdout",
     "output_type": "stream",
     "text": [
      "The slowest run took 12.20 times longer than the fastest. This could mean that an intermediate result is being cached.\n",
      "1.3 µs ± 1.77 µs per loop (mean ± std. dev. of 7 runs, 1 loop each)\n"
     ]
    }
   ],
   "source": [
    "%timeit suma100numerosJIT(0)"
   ]
  },
  {
   "cell_type": "code",
   "execution_count": 12,
   "metadata": {},
   "outputs": [],
   "source": [
    "@jit\n",
    "def sumaNumerosJIT():\n",
    "    suma = 0\n",
    "    for i in range(0,100000001):\n",
    "        suma+=i\n",
    "    #print(\"La suma de los primeros 1 000 000 000 es: \",suma)"
   ]
  },
  {
   "cell_type": "code",
   "execution_count": 13,
   "metadata": {},
   "outputs": [
    {
     "name": "stdout",
     "output_type": "stream",
     "text": [
      "68.1 ns ± 1.21 ns per loop (mean ± std. dev. of 7 runs, 10000000 loops each)\n"
     ]
    }
   ],
   "source": [
    "%timeit sumaNumerosJIT()"
   ]
  },
  {
   "cell_type": "code",
   "execution_count": 14,
   "metadata": {},
   "outputs": [],
   "source": [
    "## Para obtener información desde Jupyter sobre el SO\n",
    "##!numba -s\n"
   ]
  },
  {
   "cell_type": "markdown",
   "metadata": {},
   "source": [
    "Con las pruebas en tiempo de los mismos métodos pero optimizados con el decorador *@jit* obtenemos que sumar los primeros cien números tiene un costo de $161ns$ (nanosegundos) y la suma de los primeros mil millones de números naturales  tiene un costo de $65.4 ns$ (nanosegundos), simplemente a diferencia de los metodos secuenciales sin optimizar coloca en el mismo renglon el costo de ambos procesos. \n",
    "> Sin embargo, la optimización del decorador @jit y el uso de Numba puede no quedar pertinente en esta sección más que para hacer una comparación con el uso de hilos en paralelos ya que parece ser que la optimización de numba usa el tipo de variables para eficientar el codigo y no el paralelismo. Hay que investigar más. "
   ]
  },
  {
   "cell_type": "markdown",
   "metadata": {},
   "source": [
    "Valor | Símbolo | Nombre\n",
    ":----: | ------ | ------\n",
    "    10⁻¹s | ds | decisegundos\n",
    "    10⁻²s | cs  | centisegundos\n",
    "    10⁻³s | ms | milisegundos\n",
    "    10⁻⁶s  | $\\mu s$ |microsegundos\n",
    "    10⁻⁹ | ns | nanosegundos \n",
    "    10⁻¹² | ps | spicosegundos\n",
    "    \n",
    "    \n",
    "    \n",
    "    "
   ]
  },
  {
   "cell_type": "markdown",
   "metadata": {},
   "source": [
    "Carácteristica | Valor\n",
    ":-----------|-------------:\n",
    "Sistema Operativo | Ubuntu\n",
    "Arquitectura | x86_64\n",
    "Nombre del modelo | Intel(R) Core(TM)\n",
    "Procesador | i5-6300U \n",
    "Frecuencia | 2.40GHz\n",
    "RAM | 8Gb\n",
    "Procesadores | 4\n",
    "Núcleos | 2\n"
   ]
  },
  {
   "cell_type": "markdown",
   "metadata": {},
   "source": [
    "Ahora paralelizare la función además de optimizarla con el decorador *@jit*"
   ]
  },
  {
   "cell_type": "code",
   "execution_count": 15,
   "metadata": {},
   "outputs": [],
   "source": [
    "@jit(parallel=True)\n",
    "def sumaNumerosJITP():\n",
    "    suma = 0\n",
    "    for i in prange(0,100000001):\n",
    "        suma+=i\n",
    "    #print(\"La suma de los primeros 1 000 000 000 es: \",suma)"
   ]
  },
  {
   "cell_type": "code",
   "execution_count": 16,
   "metadata": {},
   "outputs": [
    {
     "name": "stdout",
     "output_type": "stream",
     "text": [
      "18.3 ns ± 0.271 ns per loop (mean ± std. dev. of 7 runs, 100000000 loops each)\n"
     ]
    }
   ],
   "source": [
    "%timeit sumaNumerosJITP"
   ]
  },
  {
   "cell_type": "markdown",
   "metadata": {},
   "source": [
    "La prueba realizada nos da como resultado un tiempo de $18.8 ns$, sin paralelizar el proceso tomaba entre $67.2$ nanosegundos con un eror de mas menos $0.258$ nanosegundos. La indemiata desventaja que encuentro en esta forma de paralelizar es que el alumno no decide como subdividir las tareas del problema, sino que numba hace el trabajo al indicarle el parametro *parallel* con *True*. Tenemos una mejora de hasta $49$ nanosegundos."
   ]
  },
  {
   "cell_type": "code",
   "execution_count": 17,
   "metadata": {},
   "outputs": [
    {
     "name": "stdout",
     "output_type": "stream",
     "text": [
      " \n",
      "================================================================================\n",
      " Parallel Accelerator Optimizing:  Function sumaNumerosJITP, <ipython-\n",
      "input-15-1fe85ec8da77> (1)  \n",
      "================================================================================\n",
      "\n",
      "\n",
      "Parallel loop listing for  Function sumaNumerosJITP, <ipython-input-15-1fe85ec8da77> (1) \n",
      "-------------------------------------|loop #ID\n",
      "@jit(parallel=True)                  | \n",
      "def sumaNumerosJITP():               | \n",
      "    suma = 0                         | \n",
      "    for i in prange(0,100000001):----| #0\n",
      "        suma+=i                      | \n",
      "--------------------------------- Fusing loops ---------------------------------\n",
      "Attempting fusion of parallel loops (combines loops with similar properties)...\n",
      "----------------------------- Before Optimisation ------------------------------\n",
      "--------------------------------------------------------------------------------\n",
      "------------------------------ After Optimisation ------------------------------\n",
      "Parallel structure is already optimal.\n",
      "--------------------------------------------------------------------------------\n",
      "--------------------------------------------------------------------------------\n",
      " \n",
      "---------------------------Loop invariant code motion---------------------------\n",
      "Allocation hoisting:\n",
      "No allocation hoisting found\n",
      "\n",
      "Instruction hoisting:\n",
      "loop #0:\n",
      "  Failed to hoist the following:\n",
      "    dependency: $suma.2.18 = inplace_binop(fn=<built-in function iadd>, immutable_fn=<built-in function add>, lhs=suma_2.2, rhs=$parfor__index_0.61, static_lhs=Undefined, static_rhs=Undefined)\n",
      "    dependency: suma_2 = $suma.2.18\n",
      "--------------------------------------------------------------------------------\n"
     ]
    }
   ],
   "source": [
    "sumaNumerosJITP()\n",
    "sumaNumerosJITP.parallel_diagnostics(level=4)"
   ]
  }
 ],
 "metadata": {
  "kernelspec": {
   "display_name": "Python 3",
   "language": "python",
   "name": "python3"
  },
  "language_info": {
   "codemirror_mode": {
    "name": "ipython",
    "version": 3
   },
   "file_extension": ".py",
   "mimetype": "text/x-python",
   "name": "python",
   "nbconvert_exporter": "python",
   "pygments_lexer": "ipython3",
   "version": "3.8.3"
  }
 },
 "nbformat": 4,
 "nbformat_minor": 4
}
