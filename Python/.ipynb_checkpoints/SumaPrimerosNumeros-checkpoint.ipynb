{
 "cells": [
  {
   "cell_type": "markdown",
   "metadata": {},
   "source": [
    "# Suma de los primeros 1 000 000 000 números naturales"
   ]
  },
  {
   "cell_type": "markdown",
   "metadata": {},
   "source": [
    "Para calcular la suma de los primeros $n$ números naturales se utiliza la formula $\\frac{n(n+1)}{2}$.\n",
    "\n",
    "Con fines didacticos para el curso de Algoritmos Paralelos se diseño una práctica donde se implementa la suma de los primeros 1 000 000 000 haciendo uso de hilos. En la siguiente sección se presenta la forma secuencial de hacer la suma, la optimización secuencial usando el decorador *@jit* de la libreria *Numba* y calculando con la formula la suma."
   ]
  },
  {
   "cell_type": "code",
   "execution_count": 1,
   "metadata": {},
   "outputs": [
    {
     "data": {
      "text/plain": [
       "5050"
      ]
     },
     "execution_count": 1,
     "metadata": {},
     "output_type": "execute_result"
    }
   ],
   "source": [
    "int((100*(100+1))/2)"
   ]
  },
  {
   "cell_type": "markdown",
   "metadata": {},
   "source": [
    "Al ser una operación tiene una complejidad $O(1)$ respecto a tiempo y espacio en memoria."
   ]
  },
  {
   "cell_type": "code",
   "execution_count": 2,
   "metadata": {},
   "outputs": [],
   "source": [
    "def suma100numeros(x):\n",
    "    suma = 0\n",
    "    for i in range(0,101):\n",
    "        suma+=i\n",
    "    if x == 1:\n",
    "        print(\"La suma de los primeros 100 es: \",suma)"
   ]
  },
  {
   "cell_type": "markdown",
   "metadata": {},
   "source": [
    "La complejidad en tiempo de la función *suma100numeros* tiene complejidad $O(n)$ donde *n* es el número limite de la suma. La complejidad en espacio es constante $O(1)$ pues la función *suma100numeros* hace uso exclusivo de una variable donde se guarda la suma en cada iteración."
   ]
  },
  {
   "cell_type": "code",
   "execution_count": 3,
   "metadata": {},
   "outputs": [
    {
     "name": "stdout",
     "output_type": "stream",
     "text": [
      "La suma de los primeros 100 es:  5050\n"
     ]
    }
   ],
   "source": [
    "suma100numeros(1)"
   ]
  },
  {
   "cell_type": "code",
   "execution_count": 4,
   "metadata": {},
   "outputs": [
    {
     "name": "stdout",
     "output_type": "stream",
     "text": [
      "4.35 µs ± 297 ns per loop (mean ± std. dev. of 7 runs, 100000 loops each)\n"
     ]
    }
   ],
   "source": [
    "%timeit suma100numeros(0)"
   ]
  },
  {
   "cell_type": "markdown",
   "metadata": {},
   "source": [
    "Usando la fórmula para calcular la suma de los primeros 1 000 000 000 números naturales"
   ]
  },
  {
   "cell_type": "code",
   "execution_count": 16,
   "metadata": {},
   "outputs": [
    {
     "data": {
      "text/plain": [
       "5.000000005e+17"
      ]
     },
     "execution_count": 16,
     "metadata": {},
     "output_type": "execute_result"
    }
   ],
   "source": [
    "((1000000000*(1000000000+1))/2)"
   ]
  },
  {
   "cell_type": "markdown",
   "metadata": {},
   "source": [
    "//////Tipo de entero que permita visualizar? "
   ]
  },
  {
   "cell_type": "code",
   "execution_count": 6,
   "metadata": {},
   "outputs": [],
   "source": [
    "def sumaNumeros():\n",
    "    suma = 0\n",
    "    for i in range(0,100000001):\n",
    "        suma+=i\n",
    "    #print(\"La suma de los primeros 1 000 000 000 es: \",suma)"
   ]
  },
  {
   "cell_type": "code",
   "execution_count": 7,
   "metadata": {},
   "outputs": [
    {
     "name": "stdout",
     "output_type": "stream",
     "text": [
      "5.76 s ± 108 ms per loop (mean ± std. dev. of 7 runs, 1 loop each)\n"
     ]
    }
   ],
   "source": [
    "%timeit sumaNumeros()"
   ]
  },
  {
   "cell_type": "markdown",
   "metadata": {},
   "source": [
    "Observemos que calcular la suma de los primeros $100$ números tiene un costo de $4.35 \\mu s$ mientras que calcular la suma de los primeros $1 \\: 000 \\: 000 \\: 000$ tiene un costo de $5.76$ segundos \n",
    ">¿Sería bueno mencionar cuanto aumenta proporcionalmente?"
   ]
  },
  {
   "cell_type": "markdown",
   "metadata": {},
   "source": [
    "Ahora haremos las mismas pruebas usando la optimización que nos brinda *numba*"
   ]
  },
  {
   "cell_type": "code",
   "execution_count": 8,
   "metadata": {},
   "outputs": [],
   "source": [
    "from numba import jit"
   ]
  },
  {
   "cell_type": "code",
   "execution_count": 9,
   "metadata": {},
   "outputs": [],
   "source": [
    "@jit\n",
    "def suma100numerosJIT(x):\n",
    "    suma = 0\n",
    "    for i in range(0,101):\n",
    "        suma+=i\n",
    "    if x == 1:\n",
    "        print(\"La suma de los primeros 100 es: \",suma)"
   ]
  },
  {
   "cell_type": "code",
   "execution_count": 21,
   "metadata": {},
   "outputs": [
    {
     "name": "stdout",
     "output_type": "stream",
     "text": [
      "157 ns ± 0.497 ns per loop (mean ± std. dev. of 7 runs, 10000000 loops each)\n"
     ]
    }
   ],
   "source": [
    "%timeit suma100numerosJIT(0)"
   ]
  },
  {
   "cell_type": "code",
   "execution_count": 19,
   "metadata": {},
   "outputs": [],
   "source": [
    "@jit\n",
    "def sumaNumerosJIT():\n",
    "    suma = 0\n",
    "    for i in range(0,100000001):\n",
    "        suma+=i\n",
    "    #print(\"La suma de los primeros 1 000 000 000 es: \",suma)"
   ]
  },
  {
   "cell_type": "code",
   "execution_count": 22,
   "metadata": {},
   "outputs": [
    {
     "name": "stdout",
     "output_type": "stream",
     "text": [
      "65.9 ns ± 0.52 ns per loop (mean ± std. dev. of 7 runs, 10000000 loops each)\n"
     ]
    }
   ],
   "source": [
    "%timeit sumaNumerosJIT()"
   ]
  },
  {
   "cell_type": "code",
   "execution_count": 23,
   "metadata": {},
   "outputs": [],
   "source": [
    "## Para obtener información desde Jupyter sobre el SO\n",
    "##!numba -s\n"
   ]
  },
  {
   "cell_type": "markdown",
   "metadata": {},
   "source": [
    "Con las pruebas en tiempo de los mismos métodos pero optimizados con el decorador *@jit* obtenemos que sumar los primeros cien números tiene un costo de $161ns$ (nanosegundos) y la suma de los primeros mil millones de números naturales  tiene un costo de $65.4 ns$ (nanosegundos), simplemente a diferencia de los metodos secuenciales sin optimizar coloca en el mismo renglon el costo de ambos procesos. \n",
    "> Sin embargo, la optimización del decorador @jit y el uso de Numba puede no quedar pertinente en esta sección más que para hacer una comparación con el uso de hilos en paralelos ya que parece ser que la optimización de numba usa el tipo de variables para eficientar el codigo y no el paralelismo. Hay que investigar más. "
   ]
  },
  {
   "cell_type": "markdown",
   "metadata": {},
   "source": [
    "Valor | Símbolo | Nombre\n",
    ":----: | ------ | ------\n",
    "    10⁻¹s | ds | decisegundos\n",
    "    10⁻²s | cs  | centisegundos\n",
    "    10⁻³s | ms | milisegundos\n",
    "    10⁻⁶s  | $\\mu s$ |microsegundos\n",
    "    10⁻⁹ | ns | nanosegundos \n",
    "    10⁻¹² | ps | spicosegundos"
   ]
  },
  {
   "cell_type": "code",
   "execution_count": null,
   "metadata": {},
   "outputs": [],
   "source": []
  }
 ],
 "metadata": {
  "kernelspec": {
   "display_name": "Python 3",
   "language": "python",
   "name": "python3"
  },
  "language_info": {
   "codemirror_mode": {
    "name": "ipython",
    "version": 3
   },
   "file_extension": ".py",
   "mimetype": "text/x-python",
   "name": "python",
   "nbconvert_exporter": "python",
   "pygments_lexer": "ipython3",
   "version": "3.8.3"
  }
 },
 "nbformat": 4,
 "nbformat_minor": 4
}
